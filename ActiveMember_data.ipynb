{
 "cells": [
  {
   "cell_type": "markdown",
   "id": "61eb7805",
   "metadata": {},
   "source": [
    "# Läser in data aktiva kunder"
   ]
  },
  {
   "cell_type": "code",
   "execution_count": 1,
   "id": "6e824d2f",
   "metadata": {},
   "outputs": [
    {
     "data": {
      "text/html": [
       "<div>\n",
       "<style scoped>\n",
       "    .dataframe tbody tr th:only-of-type {\n",
       "        vertical-align: middle;\n",
       "    }\n",
       "\n",
       "    .dataframe tbody tr th {\n",
       "        vertical-align: top;\n",
       "    }\n",
       "\n",
       "    .dataframe thead th {\n",
       "        text-align: right;\n",
       "    }\n",
       "</style>\n",
       "<table border=\"1\" class=\"dataframe\">\n",
       "  <thead>\n",
       "    <tr style=\"text-align: right;\">\n",
       "      <th></th>\n",
       "      <th>CustomerId</th>\n",
       "      <th>Surname</th>\n",
       "      <th>CreditScore</th>\n",
       "      <th>Geography</th>\n",
       "      <th>Gender</th>\n",
       "      <th>Age</th>\n",
       "      <th>Balance</th>\n",
       "      <th>NumOfProducts</th>\n",
       "      <th>HasCrCard</th>\n",
       "      <th>IsActiveMember</th>\n",
       "      <th>EstimatedSalary</th>\n",
       "    </tr>\n",
       "  </thead>\n",
       "  <tbody>\n",
       "    <tr>\n",
       "      <th>0</th>\n",
       "      <td>15634602</td>\n",
       "      <td>Hargrave</td>\n",
       "      <td>619</td>\n",
       "      <td>France</td>\n",
       "      <td>Female</td>\n",
       "      <td>42</td>\n",
       "      <td>0.00</td>\n",
       "      <td>1</td>\n",
       "      <td>1</td>\n",
       "      <td>1</td>\n",
       "      <td>101348.88</td>\n",
       "    </tr>\n",
       "    <tr>\n",
       "      <th>1</th>\n",
       "      <td>15647311</td>\n",
       "      <td>Hill</td>\n",
       "      <td>608</td>\n",
       "      <td>Spain</td>\n",
       "      <td>Female</td>\n",
       "      <td>41</td>\n",
       "      <td>83807.86</td>\n",
       "      <td>1</td>\n",
       "      <td>0</td>\n",
       "      <td>1</td>\n",
       "      <td>112542.58</td>\n",
       "    </tr>\n",
       "    <tr>\n",
       "      <th>2</th>\n",
       "      <td>15737888</td>\n",
       "      <td>Mitchell</td>\n",
       "      <td>850</td>\n",
       "      <td>Spain</td>\n",
       "      <td>Female</td>\n",
       "      <td>43</td>\n",
       "      <td>125510.82</td>\n",
       "      <td>1</td>\n",
       "      <td>1</td>\n",
       "      <td>1</td>\n",
       "      <td>79084.10</td>\n",
       "    </tr>\n",
       "    <tr>\n",
       "      <th>3</th>\n",
       "      <td>15592531</td>\n",
       "      <td>Bartlett</td>\n",
       "      <td>822</td>\n",
       "      <td>France</td>\n",
       "      <td>Male</td>\n",
       "      <td>50</td>\n",
       "      <td>0.00</td>\n",
       "      <td>2</td>\n",
       "      <td>1</td>\n",
       "      <td>1</td>\n",
       "      <td>10062.80</td>\n",
       "    </tr>\n",
       "    <tr>\n",
       "      <th>4</th>\n",
       "      <td>15792365</td>\n",
       "      <td>He</td>\n",
       "      <td>501</td>\n",
       "      <td>France</td>\n",
       "      <td>Male</td>\n",
       "      <td>44</td>\n",
       "      <td>142051.07</td>\n",
       "      <td>2</td>\n",
       "      <td>0</td>\n",
       "      <td>1</td>\n",
       "      <td>74940.50</td>\n",
       "    </tr>\n",
       "  </tbody>\n",
       "</table>\n",
       "</div>"
      ],
      "text/plain": [
       "   CustomerId   Surname  CreditScore Geography  Gender  Age    Balance  \\\n",
       "0    15634602  Hargrave          619    France  Female   42       0.00   \n",
       "1    15647311      Hill          608     Spain  Female   41   83807.86   \n",
       "2    15737888  Mitchell          850     Spain  Female   43  125510.82   \n",
       "3    15592531  Bartlett          822    France    Male   50       0.00   \n",
       "4    15792365        He          501    France    Male   44  142051.07   \n",
       "\n",
       "   NumOfProducts  HasCrCard  IsActiveMember  EstimatedSalary  \n",
       "0              1          1               1        101348.88  \n",
       "1              1          0               1        112542.58  \n",
       "2              1          1               1         79084.10  \n",
       "3              2          1               1         10062.80  \n",
       "4              2          0               1         74940.50  "
      ]
     },
     "execution_count": 1,
     "metadata": {},
     "output_type": "execute_result"
    }
   ],
   "source": [
    "import pandas as pd\n",
    "from matplotlib import pyplot as plt\n",
    "df=pd.read_csv(\"ActiveMembers_clean.csv\")\n",
    "df.head()"
   ]
  },
  {
   "cell_type": "markdown",
   "id": "4ef0e645",
   "metadata": {},
   "source": [
    "## Kontrollerar antal rader och kolummner"
   ]
  },
  {
   "cell_type": "code",
   "execution_count": 2,
   "id": "c98cd348",
   "metadata": {},
   "outputs": [
    {
     "data": {
      "text/plain": [
       "(5151, 11)"
      ]
     },
     "execution_count": 2,
     "metadata": {},
     "output_type": "execute_result"
    }
   ],
   "source": [
    "df.shape"
   ]
  },
  {
   "cell_type": "markdown",
   "id": "b80f87a2",
   "metadata": {},
   "source": [
    "# Vart har vi flest kunder?"
   ]
  },
  {
   "cell_type": "code",
   "execution_count": 3,
   "id": "44a07cd1",
   "metadata": {},
   "outputs": [
    {
     "data": {
      "text/plain": [
       "France     2591\n",
       "Spain      1312\n",
       "Germany    1248\n",
       "Name: Geography, dtype: int64"
      ]
     },
     "execution_count": 3,
     "metadata": {},
     "output_type": "execute_result"
    }
   ],
   "source": [
    "df[\"Geography\"].value_counts()"
   ]
  },
  {
   "cell_type": "code",
   "execution_count": 4,
   "id": "e7fbdf97",
   "metadata": {},
   "outputs": [
    {
     "data": {
      "image/png": "[encoded data removed]",
      "text/plain": [
       "<Figure size 640x480 with 1 Axes>"
      ]
     },
     "metadata": {},
     "output_type": "display_data"
    }
   ],
   "source": [
    "countries = dict(df[\"Geography\"].value_counts())\n",
    "plt.pie(countries.values(),labels=countries.keys(),wedgeprops={\"edgecolor\":\"black\"},autopct=\"%1.1f%%\")\n",
    "plt.tight_layout()"
   ]
  },
  {
   "cell_type": "markdown",
   "id": "09e6901d",
   "metadata": {},
   "source": [
    "## Printa ut creditscore"
   ]
  },
  {
   "cell_type": "code",
   "execution_count": 5,
   "id": "3f87c4df",
   "metadata": {},
   "outputs": [
    {
     "data": {
      "text/plain": [
       "850    128\n",
       "678     35\n",
       "682     35\n",
       "670     31\n",
       "684     30\n",
       "      ... \n",
       "462      1\n",
       "420      1\n",
       "407      1\n",
       "428      1\n",
       "845      1\n",
       "Name: CreditScore, Length: 441, dtype: int64"
      ]
     },
     "execution_count": 5,
     "metadata": {},
     "output_type": "execute_result"
    }
   ],
   "source": [
    "df[\"CreditScore\"].value_counts()"
   ]
  },
  {
   "cell_type": "code",
   "execution_count": 6,
   "id": "8ee8f24d",
   "metadata": {},
   "outputs": [
    {
     "name": "stdout",
     "output_type": "stream",
     "text": [
      "      CustomerId     Surname  CreditScore Geography  Gender  Age    Balance  \\\n",
      "2       15737888    Mitchell          850     Spain  Female   43  125510.82   \n",
      "22      15717426   Armstrong          850    France    Male   36       0.00   \n",
      "86      15716334      Rozier          850     Spain  Female   45  122311.21   \n",
      "96      15604482   Chiemezie          850     Spain    Male   30  141040.01   \n",
      "129     15607178       Welch          850   Germany    Male   38   54901.01   \n",
      "...          ...         ...          ...       ...     ...  ...        ...   \n",
      "4871    15672574  Uspenskaya          850     Spain  Female   32       0.00   \n",
      "4898    15682868     Elliott          850    France  Female   40   99816.46   \n",
      "4902    15581551  Yobachukwu          850     Spain    Male   41  132838.07   \n",
      "4924    15709256      Glover          850    France  Female   28       0.00   \n",
      "4978    15730579        Ward          850    France    Male   68  169445.40   \n",
      "\n",
      "      NumOfProducts  HasCrCard  IsActiveMember  EstimatedSalary  \n",
      "2                 1          1               1         79084.10  \n",
      "22                1          1               1         40812.90  \n",
      "86                1          1               1         19482.50  \n",
      "96                1          1               1          5978.20  \n",
      "129               1          1               1        140075.55  \n",
      "...             ...        ...             ...              ...  \n",
      "4871              1          1               1          3830.59  \n",
      "4898              1          1               1        163989.66  \n",
      "4902              1          1               1        175347.28  \n",
      "4924              2          1               1        164864.67  \n",
      "4978              1          1               1        186335.07  \n",
      "\n",
      "[128 rows x 11 columns]\n"
     ]
    }
   ],
   "source": [
    "CreditScore=df[df[\"CreditScore\"]==850]\n",
    "print(CreditScore)"
   ]
  },
  {
   "cell_type": "markdown",
   "id": "ab3e1f5a",
   "metadata": {},
   "source": [
    "# Vilken kön har våra kunder? "
   ]
  },
  {
   "cell_type": "code",
   "execution_count": 7,
   "id": "1209a7d9",
   "metadata": {},
   "outputs": [
    {
     "data": {
      "text/plain": [
       "Male      2867\n",
       "Female    2284\n",
       "Name: Gender, dtype: int64"
      ]
     },
     "execution_count": 7,
     "metadata": {},
     "output_type": "execute_result"
    }
   ],
   "source": [
    "df[\"Gender\"].value_counts()"
   ]
  },
  {
   "cell_type": "markdown",
   "id": "487d4fe3",
   "metadata": {},
   "source": [
    "# Hur gamla är våra kunder? "
   ]
  },
  {
   "cell_type": "code",
   "execution_count": 8,
   "id": "7bedaabc",
   "metadata": {},
   "outputs": [
    {
     "data": {
      "text/plain": [
       "37    244\n",
       "35    244\n",
       "32    240\n",
       "38    232\n",
       "36    227\n",
       "     ... \n",
       "82      1\n",
       "88      1\n",
       "85      1\n",
       "84      1\n",
       "83      1\n",
       "Name: Age, Length: 70, dtype: int64"
      ]
     },
     "execution_count": 8,
     "metadata": {},
     "output_type": "execute_result"
    }
   ],
   "source": [
    "df[\"Age\"].value_counts()"
   ]
  },
  {
   "cell_type": "code",
   "execution_count": 9,
   "id": "29126406",
   "metadata": {},
   "outputs": [],
   "source": [
    "age=df.loc[df[\"IsActiveMember\"]==1]"
   ]
  },
  {
   "cell_type": "markdown",
   "id": "5db07445",
   "metadata": {},
   "source": [
    "## skapar ett histogram över ålder"
   ]
  },
  {
   "cell_type": "code",
   "execution_count": 48,
   "id": "9baec5a3",
   "metadata": {
    "scrolled": true
   },
   "outputs": [
    {
     "data": {
      "image/png": "[encoded data removed]",
      "text/plain": [
       "<Figure size 800x300 with 1 Axes>"
      ]
     },
     "metadata": {},
     "output_type": "display_data"
    }
   ],
   "source": [
    "plt.figure(figsize=(8,3))\n",
    "plt.xlabel('Age')\n",
    "plt.hist(age[\"Age\"],bins=15, alpha=0.9, label='IsActiveMember',rwidth=0.9)\n",
    "plt.legend(loc='upper right')\n",
    "plt.show()"
   ]
  },
  {
   "cell_type": "markdown",
   "id": "decb5d97",
   "metadata": {},
   "source": [
    "## översikt över åldersdatan"
   ]
  },
  {
   "cell_type": "code",
   "execution_count": 28,
   "id": "3fb9d326",
   "metadata": {},
   "outputs": [
    {
     "data": {
      "text/plain": [
       "count    5151.000000\n",
       "mean       39.791497\n",
       "std        11.691969\n",
       "min        18.000000\n",
       "25%        32.000000\n",
       "50%        37.000000\n",
       "75%        45.000000\n",
       "max        92.000000\n",
       "Name: Age, dtype: float64"
      ]
     },
     "execution_count": 28,
     "metadata": {},
     "output_type": "execute_result"
    }
   ],
   "source": [
    "age[\"Age\"].describe()"
   ]
  },
  {
   "cell_type": "markdown",
   "id": "a2ce2dbd",
   "metadata": {},
   "source": [
    "## Hur många produkter har våra kunder?"
   ]
  },
  {
   "cell_type": "code",
   "execution_count": 11,
   "id": "baaf9fb6",
   "metadata": {},
   "outputs": [
    {
     "data": {
      "text/plain": [
       "1    2563\n",
       "2    2446\n",
       "3     113\n",
       "4      29\n",
       "Name: NumOfProducts, dtype: int64"
      ]
     },
     "execution_count": 11,
     "metadata": {},
     "output_type": "execute_result"
    }
   ],
   "source": [
    "df[\"NumOfProducts\"].value_counts()"
   ]
  },
  {
   "cell_type": "markdown",
   "id": "dd979a0f",
   "metadata": {},
   "source": [
    "## Printa ut max balance "
   ]
  },
  {
   "cell_type": "code",
   "execution_count": 12,
   "id": "b1e0ace3",
   "metadata": {},
   "outputs": [
    {
     "name": "stdout",
     "output_type": "stream",
     "text": [
      "250898.09\n"
     ]
    }
   ],
   "source": [
    "print(df[\"Balance\"].max())"
   ]
  },
  {
   "cell_type": "markdown",
   "id": "aae488be",
   "metadata": {},
   "source": [
    "# Vilka 5 är vår största kunder"
   ]
  },
  {
   "cell_type": "code",
   "execution_count": 13,
   "id": "95c8e28a",
   "metadata": {},
   "outputs": [
    {
     "name": "stdout",
     "output_type": "stream",
     "text": [
      "      CustomerId  Surname  CreditScore Geography  Gender  Age    Balance  \\\n",
      "1073    15757408       Lo          655     Spain    Male   38  250898.09   \n",
      "1670    15715622   To Rot          583    France  Female   57  238387.56   \n",
      "3427    15586674     Shaw          663     Spain  Female   58  216109.88   \n",
      "777     15769818    Moore          850    France  Female   37  212778.20   \n",
      "4464    15690589  Udinesi          541    France    Male   37  212314.03   \n",
      "\n",
      "      NumOfProducts  HasCrCard  IsActiveMember  EstimatedSalary  \n",
      "1073              3          0               1         81054.00  \n",
      "1670              1          0               1        147964.99  \n",
      "3427              1          0               1         74176.71  \n",
      "777               1          0               1         69372.88  \n",
      "4464              1          0               1        148814.54  \n"
     ]
    }
   ],
   "source": [
    "# Sort the DataFrame by the 'Balance' column in descending order\n",
    "df_active_sorted = df.sort_values(by='Balance', ascending=False)\n",
    "\n",
    "\n",
    "# Print the top 5 rows, representing the 5 biggest customers\n",
    "top_5_customers=df_active_sorted.head(5)\n",
    "print(top_5_customers)"
   ]
  },
  {
   "cell_type": "code",
   "execution_count": null,
   "id": "b5c2125f",
   "metadata": {},
   "outputs": [],
   "source": []
  }
 ],
 "metadata": {
  "kernelspec": {
   "display_name": "Python 3 (ipykernel)",
   "language": "python",
   "name": "python3"
  },
  "language_info": {
   "codemirror_mode": {
    "name": "ipython",
    "version": 3
   },
   "file_extension": ".py",
   "mimetype": "text/x-python",
   "name": "python",
   "nbconvert_exporter": "python",
   "pygments_lexer": "ipython3",
   "version": "3.9.13"
  }
 },
 "nbformat": 4,
 "nbformat_minor": 5
}
